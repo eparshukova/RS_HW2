{
 "cells": [
  {
   "cell_type": "markdown",
   "id": "1f4e51a6",
   "metadata": {},
   "source": [
    "## **Count of most frequently used words**\n",
    "Homework-2\n",
    "## **Imports**\n",
    "**numpy** --> Used for math and logic operations on our data\n",
    "**pandas** --> Used for the storing and basic handling of data\n",
    "**matplotlib** --> Used for data visualisation, creating plots, graphs, etc.\n",
    "**Pyspark** --> For processing files"
   ]
  },
  {
   "cell_type": "code",
   "execution_count": 1,
   "id": "b69e26ac",
   "metadata": {},
   "outputs": [],
   "source": [
    "import findspark\n",
    "findspark.init()\n",
    "import pyspark as spark"
   ]
  },
  {
   "cell_type": "code",
   "execution_count": 6,
   "id": "5aee2ee9",
   "metadata": {},
   "outputs": [
    {
     "name": "stdout",
     "output_type": "stream",
     "text": [
      "[('мы', 146), ('год', 72), ('дорогие', 62), ('друзья', 62), ('россии', 57), ('все', 43), ('новый', 41), ('всё', 35), ('пусть', 34), ('вместе', 30)]\n"
     ]
    },
    {
     "data": {
      "image/png": "[encoded data removed]",
      "text/plain": [
       "<Figure size 432x288 with 1 Axes>"
      ]
     },
     "metadata": {
      "needs_background": "light"
     },
     "output_type": "display_data"
    }
   ],
   "source": [
    "from collections import Counter\n",
    "from pyspark.sql import SparkSession\n",
    "import numpy as np\n",
    "import pandas as pd\n",
    "import matplotlib.pyplot as plt\n",
    "  \n",
    "spark = SparkSession.builder.getOrCreate()\n",
    "\n",
    "rdd3 = spark.sparkContext.textFile(\"NY_Speeches/*.txt\")\n",
    "words = []\n",
    "llist = rdd3.collect()\n",
    "\n",
    "for el in llist:\n",
    "    bl = ['.', '!', ',']\n",
    "    internal_l = el.split()\n",
    "    for i_el in internal_l:\n",
    "        i_el = i_el.strip()\n",
    "        if i_el[len(i_el)-1] in bl:\n",
    "            words.append(i_el[:len(i_el)-1].lower())\n",
    "        elif not i_el.isalpha():\n",
    "            continue\n",
    "        else:\n",
    "            words.append(i_el.lower())\n",
    "\n",
    "black_list = [\"и\", \"на\", \"с\", \"них\", \"из\", \"бы\", \"к\", \"ни\", \"в\", \"его\", \"за\", \"когда\", \"был\", \"были\", \"новым\", \"нового\", \"годом\", \"года\", \"нашей\", \"что\", \"нас\", \"как\", \"для\", \"но\", \"это\", \"от\", \"чтобы\", \"наших\", \"не\"]\n",
    "def filtr(str):\n",
    "    if len(str) == 1:\n",
    "        return False\n",
    "    if str in black_list:\n",
    "        return False\n",
    "    else: \n",
    "        return True\n",
    "\n",
    "filtered_words = filter(filtr, words)\n",
    "    \n",
    "    \n",
    "c = Counter(filtered_words)\n",
    "most_common_ten = c.most_common(10)\n",
    "print(most_common_ten)\n",
    "keys = []\n",
    "vals = []\n",
    "for el in most_common_ten:\n",
    "    keys += [el[0]]\n",
    "    vals += [el[1]]\n",
    "\n",
    "plt.bar(keys, np.divide(list(vals), sum(vals)), label=\"Distribution of words\")\n",
    "\n",
    "plt.ylim(0,0.3)\n",
    "plt.ylabel ('Percentage', fontsize=12)\n",
    "plt.xlabel ('Words', fontsize=12)\n",
    "plt.xticks(list(keys), fontsize=12)\n",
    "plt.xticks(rotation=90)\n",
    "plt.legend (bbox_to_anchor=(1, 1), loc=\"upper right\", borderaxespad=1.)\n",
    "\n",
    "plt.show()"
   ]
  }
 ],
 "metadata": {
  "kernelspec": {
   "display_name": "Python 3 (ipykernel)",
   "language": "python",
   "name": "python3"
  },
  "language_info": {
   "codemirror_mode": {
    "name": "ipython",
    "version": 3
   },
   "file_extension": ".py",
   "mimetype": "text/x-python",
   "name": "python",
   "nbconvert_exporter": "python",
   "pygments_lexer": "ipython3",
   "version": "3.10.3"
  }
 },
 "nbformat": 4,
 "nbformat_minor": 5
}
